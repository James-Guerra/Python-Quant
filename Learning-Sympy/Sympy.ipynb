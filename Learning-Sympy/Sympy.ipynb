{
 "cells": [
  {
   "cell_type": "markdown",
   "metadata": {},
   "source": [
    "# Using Sympy"
   ]
  },
  {
   "cell_type": "markdown",
   "metadata": {},
   "source": [
    "## Importing the Package"
   ]
  },
  {
   "cell_type": "markdown",
   "metadata": {},
   "source": [
    "To import the necessary packages do something to the effect of:"
   ]
  },
  {
   "cell_type": "code",
   "execution_count": null,
   "metadata": {},
   "outputs": [],
   "source": [
    "from sympy import *\n",
    "import sys\n",
    "import mpmath\n",
    "sys.modules['sympy.mpmath'] = mpmath\n"
   ]
  },
  {
   "cell_type": "markdown",
   "metadata": {},
   "source": [
    "Say we wanted to show the limit:\n",
    "\n",
    "$$\n",
    "\\lim_{x \\rightarrow 0} \\left( \\frac{\\sin(x)}{x}\\right) = 1\n",
    "$$\n",
    "\n",
    "we could use the following syntax:"
   ]
  },
  {
   "cell_type": "code",
   "execution_count": 4,
   "metadata": {},
   "outputs": [
    {
     "data": {
      "text/latex": [
       "$\\displaystyle 1$"
      ],
      "text/plain": [
       "1"
      ]
     },
     "execution_count": 4,
     "metadata": {},
     "output_type": "execute_result"
    }
   ],
   "source": [
    "x = Symbol('x')\n",
    "x in \n",
    "limit(sin(x)/x, x, 0)\n",
    "x "
   ]
  },
  {
   "cell_type": "code",
   "execution_count": 15,
   "metadata": {},
   "outputs": [],
   "source": [
    "from __future__ import division\n",
    "from sympy import *\n",
    "x, y, z, t = symbols('x y z t')\n",
    "k, m, n = symbols('k m n', integer=True)\n",
    "f, g, h = symbols('f g h', cls=Function)\n",
    "init_printing(use_latex='mathjax', latex_mode='equation')\n"
   ]
  },
  {
   "cell_type": "markdown",
   "metadata": {},
   "source": [
    "## Symbols\n",
    "\n",
    "In order to use symbolic algebra you need to first declare variables as symbols, this is done by calling `symbols('x y z t s')` and so on, (in *Julia* this will work as well, but, also, using `@var x` is an option)."
   ]
  },
  {
   "cell_type": "code",
   "execution_count": 18,
   "metadata": {
    "tags": []
   },
   "outputs": [
    {
     "output_type": "execute_result",
     "data": {
      "text/plain": "          2    \n10⋅p + 7⋅q  - q",
      "text/latex": "\\begin{equation}10 p + 7 q^{2} - q\\end{equation}"
     },
     "metadata": {},
     "execution_count": 18
    }
   ],
   "source": [
    "p, q = symbols('p q')\n",
    "expr = 3*p - 2*p + 9*p + 6*q-7*q + 7*q**2\n",
    "expr"
   ]
  },
  {
   "cell_type": "markdown",
   "metadata": {},
   "source": [
    "### Different Printing Options"
   ]
  },
  {
   "cell_type": "markdown",
   "metadata": {},
   "source": [
    "#### Raw $\\LaTeX$"
   ]
  },
  {
   "cell_type": "code",
   "execution_count": 18,
   "metadata": {
    "tags": []
   },
   "outputs": [
    {
     "output_type": "stream",
     "name": "stdout",
     "text": "10 p + 7 q^{2} - q\n"
    }
   ],
   "source": [
    "print(latex(expr))"
   ]
  },
  {
   "cell_type": "markdown",
   "metadata": {},
   "source": [
    "#### Ascii Pretty Print"
   ]
  },
  {
   "cell_type": "code",
   "execution_count": 19,
   "metadata": {
    "tags": []
   },
   "outputs": [
    {
     "output_type": "stream",
     "name": "stdout",
     "text": "2    \n10⋅p + 7⋅q  - q\n"
    }
   ],
   "source": [
    "pprint(expr)"
   ]
  },
  {
   "cell_type": "markdown",
   "metadata": {},
   "source": [
    "#### What the lower level py call is"
   ]
  },
  {
   "cell_type": "code",
   "execution_count": 20,
   "metadata": {},
   "outputs": [
    {
     "output_type": "execute_result",
     "data": {
      "text/plain": "\"Add(Mul(Integer(10), Symbol('p')), Mul(Integer(7), Pow(Symbol('q'), Integer(2))), Mul(Integer(-1), Symbol('q')))\""
     },
     "metadata": {},
     "execution_count": 20
    }
   ],
   "source": [
    "srepr(expr)"
   ]
  },
  {
   "cell_type": "code",
   "execution_count": null,
   "metadata": {},
   "outputs": [],
   "source": [
    "#### Dot with GraphViz"
   ]
  },
  {
   "cell_type": "code",
   "execution_count": 19,
   "metadata": {},
   "outputs": [],
   "source": [
    "# dotprint(expr)"
   ]
  },
  {
   "cell_type": "markdown",
   "metadata": {},
   "source": [
    "#### MathML (Firefox / Safari only, not electron/chromium)"
   ]
  },
  {
   "cell_type": "code",
   "execution_count": 24,
   "metadata": {},
   "outputs": [
    {
     "output_type": "execute_result",
     "data": {
      "text/plain": "'<apply><plus/><apply><times/><cn>10</cn><ci>p</ci></apply><apply><minus/><apply><times/><cn>7</cn><apply><power/><ci>q</ci><cn>2</cn></apply></apply><ci>q</ci></apply></apply>'"
     },
     "metadata": {},
     "execution_count": 24
    }
   ],
   "source": [
    "mathml(expr)"
   ]
  },
  {
   "cell_type": "markdown",
   "metadata": {},
   "source": [
    "#### Unicode"
   ]
  },
  {
   "cell_type": "code",
   "execution_count": 23,
   "metadata": {},
   "outputs": [
    {
     "output_type": "execute_result",
     "data": {
      "text/plain": "          2    \n10⋅p + 7⋅q  - q",
      "text/latex": "\\begin{equation}10 p + 7 q^{2} - q\\end{equation}"
     },
     "metadata": {},
     "execution_count": 23
    }
   ],
   "source": [
    "init_printing(use_latex='mathjax', latex_mode='equation', use_unicode=True)\n",
    "expr"
   ]
  }
 ],
 "metadata": {
  "kernelspec": {
   "display_name": "Python 3.8.3 64-bit",
   "language": "python",
   "name": "python38364bitb58c1e4a530841da8c36eeef2b5a935c"
  },
  "language_info": {
   "codemirror_mode": {
    "name": "ipython",
    "version": 3
   },
   "file_extension": ".py",
   "mimetype": "text/x-python",
   "name": "python",
   "nbconvert_exporter": "python",
   "pygments_lexer": "ipython3",
   "version": "3.8.3-final"
  },
  "name": "Sympy.ipynb"
 },
 "nbformat": 4,
 "nbformat_minor": 2
}