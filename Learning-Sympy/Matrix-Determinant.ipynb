{
 "metadata": {
  "language_info": {
   "codemirror_mode": {
    "name": "ipython",
    "version": 3
   },
   "file_extension": ".py",
   "mimetype": "text/x-python",
   "name": "python",
   "nbconvert_exporter": "python",
   "pygments_lexer": "ipython3",
   "version": 3
  },
  "orig_nbformat": 2
 },
 "nbformat": 4,
 "nbformat_minor": 2,
 "cells": [
  {
   "cell_type": "markdown",
   "metadata": {},
   "source": [
    "# Part B Problem \n",
    "\n",
    "Let $B_n$ denote that $n \\times n$ matrix with $(i, j)$'th enntry equal to:\n",
    "\n",
    "\n",
    "$$\n",
    "\\begin{aligned}\n",
    "b_{ij} = \\begin{cases}\n",
    "\\frac{1}{2j- i^2}, &\\text{ if } i > j \\\\\n",
    "\\frac{i}{i- j}+  \\frac{1}{n^2- j - i}, &\\text{ if } j>i \\\\\n",
    "0 &\\text{ if } i = j\n",
    "\\end{cases}\n",
    "\\end{aligned}\n",
    "$$\n",
    "\n",
    "\n",
    "\n",
    "Look at the numerical values of the determinant of $B_n$ for $3≤n≤30$ and display these values graphically. You should observe that the values seem to follow a pattern.\n",
    "\n",
    "  Look at the sequence and show  that  the  $n-\\log{}$  or  $\\log$-$\\log$  transformation  gives  a  fit  that  is  approximately  linear  and  hence obtain  and  test  a  formula  that  predicts  the  value  of  the  sequence.   Define  a  function  that  predicts the value of the determinant of $Bn$.\n",
    "  \n",
    "What is the largest percentage error that your formula has for $30≤n≤50$?\n"
   ]
  }
 ]
}