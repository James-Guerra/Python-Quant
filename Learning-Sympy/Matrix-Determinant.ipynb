{
 "metadata": {
  "language_info": {
   "codemirror_mode": {
    "name": "ipython",
    "version": 3
   },
   "file_extension": ".py",
   "mimetype": "text/x-python",
   "name": "python",
   "nbconvert_exporter": "python",
   "pygments_lexer": "ipython3",
   "version": "3.8.3-final"
  },
  "orig_nbformat": 2,
  "kernelspec": {
   "name": "python38364bitb58c1e4a530841da8c36eeef2b5a935c",
   "display_name": "Python 3.8.3 64-bit"
  }
 },
 "nbformat": 4,
 "nbformat_minor": 2,
 "cells": [
  {
   "cell_type": "markdown",
   "metadata": {},
   "source": [
    "# Part B Problem \n",
    "\n",
    "Let $B_n$ denote that $n \\times n$ matrix with $(i, j)$'th enntry equal to:\n",
    "\n",
    "\n",
    "$$\n",
    "\\begin{aligned}\n",
    "b_{ij} = \\begin{cases}\n",
    "\\frac{1}{2j- i^2}, &\\text{ if } i > j \\\\\n",
    "\\frac{i}{i- j}+  \\frac{1}{n^2- j - i}, &\\text{ if } j>i \\\\\n",
    "0 &\\text{ if } i = j\n",
    "\\end{cases}\n",
    "\\end{aligned}\n",
    "$$\n",
    "\n",
    "\n",
    "\n",
    "Look at the numerical values of the determinant of $B_n$ for $3≤n≤30$ and display these values graphically. You should observe that the values seem to follow a pattern.\n",
    "\n",
    "  Look at the sequence and show  that  the  $n-\\log{}$  or  $\\log$-$\\log$  transformation  gives  a  fit  that  is  approximately  linear  and  hence obtain  and  test  a  formula  that  predicts  the  value  of  the  sequence.   Define  a  function  that  predicts the value of the determinant of $Bn$.\n",
    "  \n",
    "What is the largest percentage error that your formula has for $30≤n≤50$?\n"
   ]
  },
  {
   "cell_type": "markdown",
   "metadata": {},
   "source": [
    "## Preamble"
   ]
  },
  {
   "cell_type": "code",
   "execution_count": 309,
   "metadata": {},
   "outputs": [],
   "source": [
    "from __future__ import division\n",
    "from sympy import *\n",
    "x, y, z, t = symbols('x y z t')\n",
    "k, m, n = symbols('k m n', integer=True)\n",
    "f, g, h = symbols('f g h', cls=Function)\n",
    "init_printing()\n",
    "\n",
    "# Printing\n",
    "init_printing(use_latex='mathjax', latex_mode='equation')\n",
    "\n",
    "# Clipboard\n",
    "import pyperclip\n",
    "def lx(expr):\n",
    "    pyperclip.copy(latex(expr))\n",
    "    print(expr)\n"
   ]
  },
  {
   "cell_type": "markdown",
   "metadata": {},
   "source": [
    "## Create the Matrix"
   ]
  },
  {
   "cell_type": "markdown",
   "metadata": {},
   "source": [
    "Expressions in `Sympy` are generally immutable, matrices are the exception to this. A consequence of this is that attributes of matrix objects **occur in place**."
   ]
  },
  {
   "cell_type": "markdown",
   "metadata": {},
   "source": [
    "In order to generate an empty matrix the `zeros` function can be used:"
   ]
  },
  {
   "cell_type": "code",
   "execution_count": 311,
   "metadata": {
    "tags": []
   },
   "outputs": [
    {
     "output_type": "execute_result",
     "data": {
      "text/plain": "⎡0  0⎤\n⎢    ⎥\n⎣0  0⎦",
      "text/latex": "\\begin{equation}\\left[\\begin{matrix}0 & 0\\\\0 & 0\\end{matrix}\\right]\\end{equation}"
     },
     "metadata": {},
     "execution_count": 311
    }
   ],
   "source": [
    "n = 2\n",
    "mymat = zeros(n, n)\n",
    "mymat\n",
    "# mymat.row(2)[1] = 7 "
   ]
  },
  {
   "cell_type": "markdown",
   "metadata": {},
   "source": [
    "Then the values of the matrix may be modified by looping through the array:"
   ]
  },
  {
   "cell_type": "code",
   "execution_count": 313,
   "metadata": {
    "tags": []
   },
   "outputs": [
    {
     "output_type": "stream",
     "name": "stdout",
     "text": "(0,0)\n(0,1)\n(1,0)\n(1,1)\n"
    }
   ],
   "source": [
    "for i in range(mymat.shape[0]):\n",
    "    for j in range(mymat.shape[1]):\n",
    "        print(\"(\" + str(i) + \",\" + str(j) + \")\")"
   ]
  },
  {
   "cell_type": "markdown",
   "metadata": {},
   "source": [
    "and so to assign the values based on the condition in the problem:"
   ]
  },
  {
   "cell_type": "code",
   "execution_count": 324,
   "metadata": {
    "tags": []
   },
   "outputs": [
    {
     "output_type": "execute_result",
     "data": {
      "text/plain": "⎡        0           -0.5   -0.142857142857143⎤\n⎢                                             ⎥\n⎢-0.833333333333333    0           -0.2       ⎥\n⎢                                             ⎥\n⎣       -0.3         -0.75          0         ⎦",
      "text/latex": "\\begin{equation}\\left[\\begin{matrix}0 & -0.5 & -0.142857142857143\\\\-0.833333333333333 & 0 & -0.2\\\\-0.3 & -0.75 & 0\\end{matrix}\\right]\\end{equation}"
     },
     "metadata": {},
     "execution_count": 324
    }
   ],
   "source": [
    "def BuildMat(n):\n",
    "    mymat = zeros(n,n)\n",
    "    for i in range(n):\n",
    "        for j in range(n):\n",
    "            # Increment i and j by one because they count from zero\n",
    "            i += 1; j += 1\n",
    "            if (i > j):\n",
    "                v = 1/(2*j - i**2)\n",
    "            elif (j > i):\n",
    "                v = 1/(i-j) + 1/(n**2 - j - i)\n",
    "            else:\n",
    "                v = 0\n",
    "            # Decrement i and j so the index lines up\n",
    "            i -= 1; j -= 1\n",
    "            mymat[j, i] = v\n",
    "    return mymat\n",
    "\n",
    "BuildMat(3)\n"
   ]
  },
  {
   "cell_type": "markdown",
   "metadata": {},
   "source": [
    "## Find the Determinant"
   ]
  },
  {
   "cell_type": "code",
   "execution_count": 316,
   "metadata": {},
   "outputs": [
    {
     "output_type": "execute_result",
     "data": {
      "text/plain": "0.119285714285714",
      "text/latex": "\\begin{equation}0.119285714285714\\end{equation}"
     },
     "metadata": {},
     "execution_count": 316
    }
   ],
   "source": [
    "def detMat(n):\n",
    "    return Determinant(BuildMat(n)).doit()\n",
    "detMat(2)\n",
    "\n",
    "Determinant(BuildMat(3)).simplify()"
   ]
  },
  {
   "cell_type": "markdown",
   "metadata": {},
   "source": [
    "## Find the Determinant of Various Values"
   ]
  },
  {
   "cell_type": "code",
   "execution_count": 317,
   "metadata": {
    "tags": []
   },
   "outputs": [
    {
     "output_type": "execute_result",
     "data": {
      "text/plain": "[1, 0, 0, 0.119, -0.035, 0.018, -0.013, 0.01, -0.008, 0.006, -0.005, 0.004, -0\n.004, 0.003, -0.003, 0.002, -0.002, 0.002, -0.002, 0.001, -0.001, 0.001, -0.00\n1, 0.001, -0.e-3, 0.001, -0.e-3, 0.001, -0.e-3, 0.001]",
      "text/latex": "\\begin{equation}\\left[ 1, \\  0, \\  0, \\  0.119, \\  -0.035, \\  0.018, \\  -0.013, \\  0.01, \\  -0.008, \\  0.006, \\  -0.005, \\  0.004, \\  -0.004, \\  0.003, \\  -0.003, \\  0.002, \\  -0.002, \\  0.002, \\  -0.002, \\  0.001, \\  -0.001, \\  0.001, \\  -0.001, \\  0.001, \\  -0.001, \\  0.001, \\  -0.001, \\  0.001, \\  -0.001, \\  0.001\\right]\\end{equation}"
     },
     "metadata": {},
     "execution_count": 317
    }
   ],
   "source": [
    "# We double all numbers using map() \n",
    "result = map(detMat, range(30)) \n",
    "# print(list(result))\n",
    "[round(num, 3) for num in list(result)]"
   ]
  },
  {
   "cell_type": "markdown",
   "metadata": {},
   "source": [
    "### Create a Data Frame"
   ]
  },
  {
   "cell_type": "code",
   "execution_count": 318,
   "metadata": {
    "tags": []
   },
   "outputs": [
    {
     "output_type": "stream",
     "name": "stdout",
     "text": "Matrix.Size      Determinant.Value\n0             0                      1\n1             1                      0\n2             2                      0\n3             3      0.119285714285714\n4             4    -0.0352575763181824\n5             5     0.0180622054313475\n6             6    -0.0130234795781754\n7             7    0.00995884317994898\n8             8   -0.00782184559014832\n9             9    0.00628840304169881\n10           10   -0.00515839836598470\n11           11    0.00430448116137098\n12           12   -0.00364462792217378\n13           13    0.00312470891044082\n14           14   -0.00270804216246506\n15           15    0.00236913494508374\n16           16   -0.00208985860358642\n17           17    0.00185705171809406\n18           18   -0.00166097999794876\n19           19    0.00149432281296443\n20           20   -0.00135149140850168\n21           21    0.00122816088486413\n22           22   -0.00112094292575809\n23           23    0.00102715304986957\n24           24  -0.000944642506540081\n25           25   0.000871675127336310\n26           26  -0.000806835927146135\n27           27   0.000748962449051095\n28           28  -0.000697092617269676\n29           29   0.000650424718935463\n"
    }
   ],
   "source": [
    "import pandas as pd\n",
    "\n",
    "data = {'Matrix.Size': range(30),\n",
    "        'Determinant.Value': list(map(detMat, range(30)))\n",
    "}\n",
    "\n",
    "\n",
    "\n",
    "df = pd.DataFrame(data)\n",
    "\n",
    "print(df)"
   ]
  },
  {
   "cell_type": "markdown",
   "metadata": {},
   "source": [
    "## Log Transform the Data"
   ]
  },
  {
   "cell_type": "code",
   "execution_count": 319,
   "metadata": {},
   "outputs": [
    {
     "output_type": "execute_result",
     "data": {
      "text/plain": "    Matrix.Size         Determinant.Value\n0             0                         0\n1             1                       zoo\n2             2                       zoo\n3             3         -2.12623370318660\n4             4  -3.34507484180595 + I*pi\n5             5         -4.01393362154157\n6             6   -4.3410014291985 + I*pi\n7             7         -4.60929436072264\n8             8  -4.85083474330028 + I*pi\n9             9         -5.06904812894707\n10           10  -5.26712914185992 + I*pi\n11           11         -5.44809866837230\n12           12   -5.6145009976966 + I*pi\n13           13         -5.76841414879132\n14           14  -5.91152935445765 + I*pi\n15           15         -6.04523039253894\n16           16  -6.17065886908044 + I*pi\n17           17         -6.28876514665255\n18           18  -6.40034749059762 + I*pi\n19           19         -6.50608214267721\n20           20  -6.60654654927747 + I*pi\n21           21         -6.70223744410573\n22           22  -6.79358504987417 + I*pi\n23           23         -6.88096433297585\n24           24   -6.9647040020016 + I*pi\n25           25         -7.04509376386730\n26           26   -7.1223902224516 + I*pi\n27           27         -7.19682171048209\n28           28  -7.26859227616109 + I*pi\n29           29         -7.33788499470954",
      "text/html": "<div>\n<style scoped>\n    .dataframe tbody tr th:only-of-type {\n        vertical-align: middle;\n    }\n\n    .dataframe tbody tr th {\n        vertical-align: top;\n    }\n\n    .dataframe thead th {\n        text-align: right;\n    }\n</style>\n<table border=\"1\" class=\"dataframe\">\n  <thead>\n    <tr style=\"text-align: right;\">\n      <th></th>\n      <th>Matrix.Size</th>\n      <th>Determinant.Value</th>\n    </tr>\n  </thead>\n  <tbody>\n    <tr>\n      <th>0</th>\n      <td>0</td>\n      <td>0</td>\n    </tr>\n    <tr>\n      <th>1</th>\n      <td>1</td>\n      <td>zoo</td>\n    </tr>\n    <tr>\n      <th>2</th>\n      <td>2</td>\n      <td>zoo</td>\n    </tr>\n    <tr>\n      <th>3</th>\n      <td>3</td>\n      <td>-2.12623370318660</td>\n    </tr>\n    <tr>\n      <th>4</th>\n      <td>4</td>\n      <td>-3.34507484180595 + I*pi</td>\n    </tr>\n    <tr>\n      <th>5</th>\n      <td>5</td>\n      <td>-4.01393362154157</td>\n    </tr>\n    <tr>\n      <th>6</th>\n      <td>6</td>\n      <td>-4.3410014291985 + I*pi</td>\n    </tr>\n    <tr>\n      <th>7</th>\n      <td>7</td>\n      <td>-4.60929436072264</td>\n    </tr>\n    <tr>\n      <th>8</th>\n      <td>8</td>\n      <td>-4.85083474330028 + I*pi</td>\n    </tr>\n    <tr>\n      <th>9</th>\n      <td>9</td>\n      <td>-5.06904812894707</td>\n    </tr>\n    <tr>\n      <th>10</th>\n      <td>10</td>\n      <td>-5.26712914185992 + I*pi</td>\n    </tr>\n    <tr>\n      <th>11</th>\n      <td>11</td>\n      <td>-5.44809866837230</td>\n    </tr>\n    <tr>\n      <th>12</th>\n      <td>12</td>\n      <td>-5.6145009976966 + I*pi</td>\n    </tr>\n    <tr>\n      <th>13</th>\n      <td>13</td>\n      <td>-5.76841414879132</td>\n    </tr>\n    <tr>\n      <th>14</th>\n      <td>14</td>\n      <td>-5.91152935445765 + I*pi</td>\n    </tr>\n    <tr>\n      <th>15</th>\n      <td>15</td>\n      <td>-6.04523039253894</td>\n    </tr>\n    <tr>\n      <th>16</th>\n      <td>16</td>\n      <td>-6.17065886908044 + I*pi</td>\n    </tr>\n    <tr>\n      <th>17</th>\n      <td>17</td>\n      <td>-6.28876514665255</td>\n    </tr>\n    <tr>\n      <th>18</th>\n      <td>18</td>\n      <td>-6.40034749059762 + I*pi</td>\n    </tr>\n    <tr>\n      <th>19</th>\n      <td>19</td>\n      <td>-6.50608214267721</td>\n    </tr>\n    <tr>\n      <th>20</th>\n      <td>20</td>\n      <td>-6.60654654927747 + I*pi</td>\n    </tr>\n    <tr>\n      <th>21</th>\n      <td>21</td>\n      <td>-6.70223744410573</td>\n    </tr>\n    <tr>\n      <th>22</th>\n      <td>22</td>\n      <td>-6.79358504987417 + I*pi</td>\n    </tr>\n    <tr>\n      <th>23</th>\n      <td>23</td>\n      <td>-6.88096433297585</td>\n    </tr>\n    <tr>\n      <th>24</th>\n      <td>24</td>\n      <td>-6.9647040020016 + I*pi</td>\n    </tr>\n    <tr>\n      <th>25</th>\n      <td>25</td>\n      <td>-7.04509376386730</td>\n    </tr>\n    <tr>\n      <th>26</th>\n      <td>26</td>\n      <td>-7.1223902224516 + I*pi</td>\n    </tr>\n    <tr>\n      <th>27</th>\n      <td>27</td>\n      <td>-7.19682171048209</td>\n    </tr>\n    <tr>\n      <th>28</th>\n      <td>28</td>\n      <td>-7.26859227616109 + I*pi</td>\n    </tr>\n    <tr>\n      <th>29</th>\n      <td>29</td>\n      <td>-7.33788499470954</td>\n    </tr>\n  </tbody>\n</table>\n</div>"
     },
     "metadata": {},
     "execution_count": 319
    }
   ],
   "source": [
    "# pyperclip.copy(df.columns[0])\n",
    "df['Determinant.Value'] = [ log(val).expand(force = True) for val in df['Determinant.Value']]\n",
    "df\n"
   ]
  }
 ]
}